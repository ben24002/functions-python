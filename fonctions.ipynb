{
 "cells": [
  {
   "cell_type": "code",
   "execution_count": 2,
   "id": "9c97d395",
   "metadata": {},
   "outputs": [
    {
     "name": "stdout",
     "output_type": "stream",
     "text": [
      "Hello World, this is my first function\n"
     ]
    }
   ],
   "source": [
    "import math\n",
    "\n",
    "def function_name():\n",
    "     print(\"Hello World, this is my first function\")\n",
    "function_name()"
   ]
  },
  {
   "cell_type": "code",
   "execution_count": 5,
   "id": "fa6f52f4",
   "metadata": {},
   "outputs": [
    {
     "name": "stdout",
     "output_type": "stream",
     "text": [
      "I want to learn to code!\n",
      "I want to learn to do AI!\n"
     ]
    }
   ],
   "source": [
    "def my_function(parameter):\n",
    "    print(\"I want to learn \"+parameter)\n",
    "my_function(\"to code!\")  #it returns \"I want to learn to code!\"\n",
    "my_function(\"to do AI!\")  #it returns \"I want to learn to do AI!\""
   ]
  },
  {
   "cell_type": "code",
   "execution_count": 10,
   "id": "9d22a6d4",
   "metadata": {},
   "outputs": [
    {
     "name": "stdout",
     "output_type": "stream",
     "text": [
      "4\n"
     ]
    }
   ],
   "source": [
    "def length(liste):\n",
    "     s =0 \n",
    "     for i in liste:\n",
    "          s+=1 #s = s+1\n",
    "     return(s)\n",
    "a = [1,2,3,4]\n",
    "print(length(a)) #4"
   ]
  },
  {
   "cell_type": "code",
   "execution_count": 11,
   "id": "15f1e49a",
   "metadata": {},
   "outputs": [
    {
     "name": "stdout",
     "output_type": "stream",
     "text": [
      "2\n"
     ]
    }
   ],
   "source": [
    "b = [1,2]\n",
    "print(length(b)) #2"
   ]
  },
  {
   "cell_type": "code",
   "execution_count": 14,
   "id": "33540cdc",
   "metadata": {},
   "outputs": [
    {
     "name": "stdout",
     "output_type": "stream",
     "text": [
      "i am from spain\n",
      "i am from england\n",
      "i am from algeria\n"
     ]
    }
   ],
   "source": [
    "def this_function(country=\"algeria\") :\n",
    "    print(\"i am from \" + country)\n",
    "this_function(\"spain\")\n",
    "this_function(\"england\")\n",
    "this_function()"
   ]
  },
  {
   "cell_type": "code",
   "execution_count": 19,
   "id": "0ebf9714",
   "metadata": {},
   "outputs": [
    {
     "name": "stdout",
     "output_type": "stream",
     "text": [
      "2\n"
     ]
    }
   ],
   "source": [
    "def minimum(a,b):\n",
    "    if a<b:\n",
    "       return(a)\n",
    "    else:\n",
    "        \n",
    "        \n",
    "       return(b)\n",
    "min = minimum(10,2) # this is not possible without return \n",
    "print(min)"
   ]
  },
  {
   "cell_type": "code",
   "execution_count": 30,
   "id": "50200943",
   "metadata": {},
   "outputs": [
    {
     "name": "stdout",
     "output_type": "stream",
     "text": [
      "11\n"
     ]
    }
   ],
   "source": [
    "sum = lambda a,b,c : a+b+c\n",
    "print(sum(2,6,3)) #11"
   ]
  },
  {
   "cell_type": "code",
   "execution_count": 21,
   "id": "e53f34d6",
   "metadata": {},
   "outputs": [
    {
     "name": "stdout",
     "output_type": "stream",
     "text": [
      "11\n"
     ]
    }
   ],
   "source": [
    "sum = lambda a,b,c : a+b+c\n",
    "print(sum(2,6,3)) #11"
   ]
  },
  {
   "cell_type": "code",
   "execution_count": 22,
   "id": "458895de",
   "metadata": {},
   "outputs": [
    {
     "name": "stdout",
     "output_type": "stream",
     "text": [
      "16\n",
      "21\n"
     ]
    }
   ],
   "source": [
    "def operation(x,y,z):\n",
    "      print((x+y)*z)\n",
    "operation(5,3,2) #16\n",
    "operation(5,2,3) #21"
   ]
  },
  {
   "cell_type": "code",
   "execution_count": 26,
   "id": "32bf2338",
   "metadata": {},
   "outputs": [
    {
     "name": "stdout",
     "output_type": "stream",
     "text": [
      "5\n",
      "4\n",
      "9\n"
     ]
    }
   ],
   "source": [
    "def sume() : \n",
    "    x1 = int (input())\n",
    "    x2 = int (input())\n",
    "    return (x1 +x2)\n",
    "print(sume())"
   ]
  },
  {
   "cell_type": "code",
   "execution_count": 34,
   "id": "4903492c",
   "metadata": {},
   "outputs": [
    {
     "data": {
      "text/plain": [
       "70"
      ]
     },
     "execution_count": 34,
     "metadata": {},
     "output_type": "execute_result"
    }
   ],
   "source": [
    "#question 1 :\n",
    "\n",
    "\n",
    "def maximum (x,c,v) :\n",
    "    if x>c :\n",
    "        if x>v :\n",
    "            return x\n",
    "        else :\n",
    "            return v\n",
    "    elif c>v :\n",
    "        return c\n",
    "    else :\n",
    "        return v\n",
    "    if x == v\n",
    "        return x\n",
    "    if x == c\n",
    "        return x\n",
    "    if c == v\n",
    "        return v\n",
    "    \n",
    "maximum(70,50,60)"
   ]
  },
  {
   "cell_type": "code",
   "execution_count": 36,
   "id": "1667f45d",
   "metadata": {},
   "outputs": [
    {
     "name": "stdout",
     "output_type": "stream",
     "text": [
      "somme :50 ,sub :30\n"
     ]
    }
   ],
   "source": [
    "#question 2 :\n",
    "\n",
    "\n",
    "def calculation(x1,x2) :\n",
    "    somme = x1 + x2\n",
    "    sub = x1 - x2\n",
    "    return \"somme :\" + str(somme) + \" ,sub :\" + str(sub)\n",
    "print(calculation(40,10))"
   ]
  },
  {
   "cell_type": "code",
   "execution_count": 56,
   "id": "bd9034fc",
   "metadata": {},
   "outputs": [
    {
     "name": "stdout",
     "output_type": "stream",
     "text": [
      "la somme est : 20 , le produit est : 945\n"
     ]
    }
   ],
   "source": [
    "#question 3 :\n",
    "\n",
    "#fonction somme :\n",
    "def somme (listep) : \n",
    "    som=0\n",
    "    for i in range ( len(listep)) :\n",
    "        som += listep [i]\n",
    "    return som\n",
    "    \n",
    "#fonction mulltiplication :\n",
    "def mull (listem) : \n",
    "    prod = 1\n",
    "    for i in range ( len(listem)) :\n",
    "        prod *= listem [i]\n",
    "    return prod\n",
    "    \n",
    "#fonction demander :\n",
    "def sommul(liste) :\n",
    "    listep = []\n",
    "    listem = []\n",
    "    \n",
    "    for i in range (len (liste)) :\n",
    "        if i % 2 == 0 : \n",
    "            listep.append(liste [i])\n",
    "        else :\n",
    "            listem.append(liste [i])\n",
    "    \n",
    "    return \"la somme est : \" + str (somme (listep)) + \" , le produit est : \" + str (mull (listem))\n",
    "\n",
    "liste =[0,1,2,3,4,5,6,7,8,9]\n",
    "print(sommul(liste))"
   ]
  },
  {
   "cell_type": "code",
   "execution_count": 1,
   "id": "29093f58",
   "metadata": {},
   "outputs": [
    {
     "name": "stdout",
     "output_type": "stream",
     "text": [
      "['black', 'green', 'red', 'white', 'yellow']\n"
     ]
    }
   ],
   "source": [
    "#question 4 :\n",
    "\n",
    "\n",
    "def sortf(Str):\n",
    "    words = Str.split('-')\n",
    "    words.sort()\n",
    "    return(words)\n",
    "\n",
    "str1 = 'green-red-yellow-black-white'\n",
    "\n",
    "print(sortf(str1))\n"
   ]
  },
  {
   "cell_type": "code",
   "execution_count": 3,
   "id": "859d9cd7",
   "metadata": {},
   "outputs": [
    {
     "name": "stdout",
     "output_type": "stream",
     "text": [
      "input D: 5\n",
      "4\n",
      "None\n"
     ]
    }
   ],
   "source": [
    "#question 5 :\n",
    "\n",
    "def calc(D_list):\n",
    "    D_list = D_list.split(',')\n",
    "    result = []\n",
    "    for d in D_list:\n",
    "        q = round(math.sqrt(2 * 50 * eval(d) / 30))\n",
    "        result.append(q)\n",
    "    m = \", \".join([str(r) for r in result])\n",
    "        #m  = \", \".join(map(str, result))\n",
    "    print(m)\n",
    "   # return(result)\n",
    "D = input(\"input D: \")\n",
    "print(calc(D))"
   ]
  },
  {
   "cell_type": "code",
   "execution_count": 4,
   "id": "a1308eb6",
   "metadata": {},
   "outputs": [
    {
     "name": "stdout",
     "output_type": "stream",
     "text": [
      "Enter the list size 5\n",
      "45\n",
      "64\n",
      "56\n",
      "5\n",
      "5\n",
      "The list [45, 64, 56, 5, 5]\n",
      "result 4032000\n"
     ]
    }
   ],
   "source": [
    "list = [ ] \n",
    "n = int(input(\"Enter the list size \"))\n",
    "for i in range(0, n): \n",
    "    element = int(input())\n",
    "    list.append(element) \n",
    "print(\"The list\",list)\n",
    "mul=1\n",
    "for item in list:\n",
    "    mul*=item\n",
    "print(\"result\" ,mul)"
   ]
  },
  {
   "cell_type": "code",
   "execution_count": null,
   "id": "566f901f",
   "metadata": {},
   "outputs": [],
   "source": []
  }
 ],
 "metadata": {
  "kernelspec": {
   "display_name": "Python 3 (ipykernel)",
   "language": "python",
   "name": "python3"
  },
  "language_info": {
   "codemirror_mode": {
    "name": "ipython",
    "version": 3
   },
   "file_extension": ".py",
   "mimetype": "text/x-python",
   "name": "python",
   "nbconvert_exporter": "python",
   "pygments_lexer": "ipython3",
   "version": "3.9.12"
  }
 },
 "nbformat": 4,
 "nbformat_minor": 5
}
